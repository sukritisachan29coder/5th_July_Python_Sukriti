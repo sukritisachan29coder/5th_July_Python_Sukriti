{
 "cells": [
  {
   "cell_type": "markdown",
   "id": "69f430d2",
   "metadata": {},
   "source": [
    "1. Write a Python program to check if a given string is an anagram."
   ]
  },
  {
   "cell_type": "code",
   "execution_count": 9,
   "id": "dfca602f",
   "metadata": {},
   "outputs": [
    {
     "name": "stdout",
     "output_type": "stream",
     "text": [
      "Virala\n",
      "Rival\n"
     ]
    },
    {
     "data": {
      "text/plain": [
       "'YES'"
      ]
     },
     "execution_count": 9,
     "metadata": {},
     "output_type": "execute_result"
    }
   ],
   "source": [
    "a=input()\n",
    "b=input()\n",
    "a=a.lower()#Convert the strings into lower case so that if user enters same letters with different cases it does not thro wrong answer\n",
    "b=b.lower()\n",
    "def check_anag(a,b):\n",
    "    res=\"YES\"\n",
    "    a_l=list(map(str, a))  #split the strings with use of map command so that they can be iterated over\n",
    "    b_l=list(map(str, b))\n",
    "    if(len(a_l)>len(b_l)):  #putting an if so that the lis which is bigger is iterated over\n",
    "        for i in a_l:\n",
    "            if(i not in b_l):  #check if each and every character of string is present in second one\n",
    "                res=\"NO\"\n",
    "    else:\n",
    "        for i in b_l:\n",
    "            if(i not in a_l):  #check if each and every character of string is present in second one\n",
    "                res=\"NO\"\n",
    "        \n",
    "    return res\n",
    "check_anag(a,b)\n",
    "        "
   ]
  },
  {
   "cell_type": "markdown",
   "id": "dd5393a1",
   "metadata": {},
   "source": [
    "2. Write a Python program to find the maximum and minimum values in a\n",
    "dictionary."
   ]
  },
  {
   "cell_type": "code",
   "execution_count": 38,
   "id": "a38cca33",
   "metadata": {},
   "outputs": [
    {
     "data": {
      "text/plain": [
       "(['b'], 89, ['a'], 34)"
      ]
     },
     "execution_count": 38,
     "metadata": {},
     "output_type": "execute_result"
    }
   ],
   "source": [
    "def find_max(**kwargs):  #using kwargs so that do not take input length\n",
    "    max_val=max(kwargs.values()) #finding minimum and maximum values\n",
    "    min_val=min(kwargs.values())\n",
    "    res_max=[i for i,j in kwargs.items() if j==max_val]  #using list comprehension to fetch the key\n",
    "    res_min=[i for i,j in kwargs.items() if j==min_val]\n",
    "    return res_max,max_val,res_min,min_val\n",
    "    \n",
    "find_max(a=34,b=89,c=67)"
   ]
  },
  {
   "cell_type": "markdown",
   "id": "cb76ea3d",
   "metadata": {},
   "source": [
    "3. Write a Python program to find the average of a list of numbers."
   ]
  },
  {
   "cell_type": "code",
   "execution_count": 42,
   "id": "18a32387",
   "metadata": {},
   "outputs": [
    {
     "name": "stdout",
     "output_type": "stream",
     "text": [
      "Enter total length of list 3\n",
      "45\n",
      "41\n",
      "38\n"
     ]
    },
    {
     "data": {
      "text/plain": [
       "(41, 41.333333333333336)"
      ]
     },
     "execution_count": 42,
     "metadata": {},
     "output_type": "execute_result"
    }
   ],
   "source": [
    "length=int(input(\"Enter total length of list \"))\n",
    "lst=[]\n",
    "def find_avg(length,lst):\n",
    "    sum=0\n",
    "    for i in range(0,length):\n",
    "        i=int(input())\n",
    "        lst.append(i)\n",
    "    for i in range(0,length):\n",
    "        sum=sum+lst[i]\n",
    "        avg_abs=sum//length  #finding the absolute average without any decimal places\n",
    "        avg_accr=sum/length #finding the accurate verage\n",
    "    return avg_abs,avg_accr\n",
    "find_avg(length,lst)\n",
    "        "
   ]
  },
  {
   "cell_type": "markdown",
   "id": "70b0fe31",
   "metadata": {},
   "source": [
    "4. Write a Python program to remove all vowels from a string."
   ]
  },
  {
   "cell_type": "code",
   "execution_count": 45,
   "id": "bc7ee882",
   "metadata": {},
   "outputs": [
    {
     "name": "stdout",
     "output_type": "stream",
     "text": [
      "Sukriti\n"
     ]
    },
    {
     "data": {
      "text/plain": [
       "'skrt'"
      ]
     },
     "execution_count": 45,
     "metadata": {},
     "output_type": "execute_result"
    }
   ],
   "source": [
    "str1=input()\n",
    "def rem_vow(str1):\n",
    "    str1=str1.lower()\n",
    "    vow=['a','e','i','o','u']\n",
    "    for i in str1:\n",
    "        if i in vow:\n",
    "            str1=str1.replace(i,\"\")\n",
    "    return str1\n",
    "rem_vow(str1)"
   ]
  },
  {
   "cell_type": "markdown",
   "id": "9b821ab8",
   "metadata": {},
   "source": [
    "5. Write a Python function to calculate the factorial of a number using recursion."
   ]
  },
  {
   "cell_type": "code",
   "execution_count": 46,
   "id": "34fdcb80",
   "metadata": {},
   "outputs": [
    {
     "name": "stdout",
     "output_type": "stream",
     "text": [
      "5\n"
     ]
    },
    {
     "data": {
      "text/plain": [
       "120"
      ]
     },
     "execution_count": 46,
     "metadata": {},
     "output_type": "execute_result"
    }
   ],
   "source": [
    "n=int(input())\n",
    "def find_fact(n):\n",
    "    if(n==0 or n==1):\n",
    "        return 1\n",
    "    else:\n",
    "        return n*find_fact(n-1)\n",
    "find_fact(n)"
   ]
  },
  {
   "cell_type": "markdown",
   "id": "2dd811d8",
   "metadata": {},
   "source": [
    "7. Write a Python program to find the GCD (Greatest Common Divisor) of two\n",
    "numbers."
   ]
  },
  {
   "cell_type": "code",
   "execution_count": 30,
   "id": "18c4e425",
   "metadata": {},
   "outputs": [
    {
     "name": "stdout",
     "output_type": "stream",
     "text": [
      "24\n",
      "48\n"
     ]
    },
    {
     "data": {
      "text/plain": [
       "24"
      ]
     },
     "execution_count": 30,
     "metadata": {},
     "output_type": "execute_result"
    }
   ],
   "source": [
    "n1=int(input())  #take two input nos\n",
    "n2=int(input())\n",
    "def find_GCD(n1,n2):\n",
    "    div=1\n",
    "    i=1\n",
    "    if(n1>=n2):\n",
    "        while(i<=n2):\n",
    "            if(n1%i==0 and n2%i==0):   #check whether the first no is greater than 2nd then loop will run till smallest no\n",
    "                div=i\n",
    "            i=i+1\n",
    "                \n",
    "    else:\n",
    "        while(i<=n1):\n",
    "            if(n1%i==0 and n2%i==0):   #check whether the second no is greater than 1st then loop will run till smallest no\n",
    "                div=i\n",
    "            i=i+1\n",
    "                \n",
    "    return div\n",
    "find_GCD(n1,n2)"
   ]
  },
  {
   "cell_type": "markdown",
   "id": "40e74631",
   "metadata": {},
   "source": [
    "8. Write a Python program to find the second-largest element in a list."
   ]
  },
  {
   "cell_type": "code",
   "execution_count": 32,
   "id": "27699367",
   "metadata": {},
   "outputs": [
    {
     "name": "stdout",
     "output_type": "stream",
     "text": [
      "5\n",
      "21\n",
      "34\n",
      "27\n",
      "-9\n",
      "45\n"
     ]
    },
    {
     "data": {
      "text/plain": [
       "34"
      ]
     },
     "execution_count": 32,
     "metadata": {},
     "output_type": "execute_result"
    }
   ],
   "source": [
    "lst=[]\n",
    "def find_desired(lst):\n",
    "    n=int(input())\n",
    "    for i in range(0,n):\n",
    "        i=int(input())\n",
    "        lst.append(i)\n",
    "    lst=sorted(lst)\n",
    "    return lst[n-2]\n",
    "find_desired(lst)\n",
    "    "
   ]
  }
 ],
 "metadata": {
  "kernelspec": {
   "display_name": "Python 3 (ipykernel)",
   "language": "python",
   "name": "python3"
  },
  "language_info": {
   "codemirror_mode": {
    "name": "ipython",
    "version": 3
   },
   "file_extension": ".py",
   "mimetype": "text/x-python",
   "name": "python",
   "nbconvert_exporter": "python",
   "pygments_lexer": "ipython3",
   "version": "3.10.9"
  }
 },
 "nbformat": 4,
 "nbformat_minor": 5
}
